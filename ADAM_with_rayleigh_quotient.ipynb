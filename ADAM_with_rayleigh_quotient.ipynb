{
 "cells": [
  {
   "cell_type": "code",
   "execution_count": 1,
   "metadata": {
    "ExecuteTime": {
     "end_time": "2019-10-18T11:05:19.942906Z",
     "start_time": "2019-10-18T11:05:19.127996Z"
    }
   },
   "outputs": [],
   "source": [
    "import numpy as np\n",
    "import seaborn as sns\n",
    "import matplotlib.pyplot as plt"
   ]
  },
  {
   "cell_type": "markdown",
   "metadata": {},
   "source": [
    "## Defining a PD matrix"
   ]
  },
  {
   "cell_type": "code",
   "execution_count": 29,
   "metadata": {
    "ExecuteTime": {
     "end_time": "2019-10-18T11:23:48.447744Z",
     "start_time": "2019-10-18T11:23:48.417212Z"
    }
   },
   "outputs": [
    {
     "data": {
      "text/plain": [
       "(array([-0.53886375,  0.29852834, -0.04400088, -0.10192725,  0.77985989]),\n",
       " array([5.55111512e-17, 5.00000000e-01, 1.00000000e+00, 1.50000000e+00,\n",
       "        2.00000000e+00]))"
      ]
     },
     "execution_count": 29,
     "metadata": {},
     "output_type": "execute_result"
    }
   ],
   "source": [
    "#MATRIX PARAMETERS (nxn)\n",
    "n = 5\n",
    "\n",
    "#rank of the PSD matrix (r<=n), dim = (nxn)\n",
    "rank = n\n",
    "\n",
    "#QR factorization\n",
    "np.random.seed(0)\n",
    "q, r = np.linalg.qr(np.random.randn(n, n))\n",
    "q = q[:,:rank]\n",
    "S = np.diag(np.linspace(0,2,rank))\n",
    "A = q@S@q.T\n",
    "\n",
    "# eigenvalues and eigenvectors | # eig_val[i] ==> corr. eig_vec[:,i]\n",
    "eig_val, eig_vec = np.linalg.eig(A)\n",
    "\n",
    "#dominant eigenvector\n",
    "u1 = eig_vec[:,0]\n",
    "u1 = u1/np.linalg.norm(u1)\n",
    "u1,eig_val"
   ]
  },
  {
   "cell_type": "markdown",
   "metadata": {},
   "source": [
    "# ADAM optimizer"
   ]
  },
  {
   "cell_type": "code",
   "execution_count": 39,
   "metadata": {
    "ExecuteTime": {
     "end_time": "2019-10-18T11:25:03.435279Z",
     "start_time": "2019-10-18T11:25:03.217670Z"
    }
   },
   "outputs": [
    {
     "data": {
      "text/plain": [
       "array([-0.53886375,  0.29852834, -0.04400088, -0.10192725,  0.77985989])"
      ]
     },
     "execution_count": 39,
     "metadata": {},
     "output_type": "execute_result"
    }
   ],
   "source": [
    "#initialize the values of the parameters\n",
    "alpha = 0.01\n",
    "beta_1 = 0.9\n",
    "beta_2 = 0.999 \n",
    "epsilon = 1e-8\n",
    "\n",
    "\n",
    "# Rayleigh quotient | Objective function\n",
    "def func(w):\n",
    "    return w.T@A@w/np.linalg.norm(w)**2\n",
    "\n",
    "\n",
    "#gradient of Rayleigh quotient\n",
    "def grad_func(w):\n",
    "    return 2*(A@w - (w.T@A@w/np.linalg.norm(w)**2)*w)/(np.linalg.norm(w)**2)\n",
    "\n",
    "\n",
    "#initialize the vector\n",
    "np.random.seed(0)\n",
    "theta = np.random.rand(A.shape[1])\n",
    "m_t = np.zeros((A.shape[1]))\n",
    "v_t = np.zeros((A.shape[1]))\n",
    "res_adam = []\n",
    "max_iters = 1000\n",
    "t = 0\n",
    "\n",
    "\n",
    "#till it gets converged\n",
    "for t in range(1,max_iters):\n",
    "    \n",
    "    theta = theta/np.linalg.norm(theta)\n",
    "    \n",
    "    #computes the gradient of the stochastic function\n",
    "    g_t = grad_func(theta) \n",
    "    \n",
    "    res_adam.append(1 - (theta.dot(u1))**2)\n",
    "    #updates the moving averages of the gradient\n",
    "    m_t = beta_1*m_t + (1-beta_1)*g_t\n",
    "    #updates the moving averages of the squared gradient\n",
    "    v_t = beta_2*v_t + (1-beta_2)*(g_t*g_t)\n",
    "    \n",
    "    \n",
    "    #calculates the bias-corrected estimates\n",
    "    m_cap = m_t/(1-(beta_1**t))\n",
    "    #calculates the bias-corrected estimates\n",
    "    v_cap = v_t/(1-(beta_2**t))\n",
    "    \n",
    "    \n",
    "    theta_prev = theta.copy()\n",
    "    theta_prev = theta_prev/np.linalg.norm(theta_prev)\n",
    "    \n",
    "#     print(theta_prev,'\\n',theta_prev)\n",
    "    #updates the parameters\n",
    "    for i in range(len(theta)):\n",
    "        theta[i] = theta[i] - (alpha*m_cap[i])/(np.sqrt(v_cap[i])+epsilon)\n",
    "        \n",
    "theta"
   ]
  },
  {
   "cell_type": "code",
   "execution_count": 43,
   "metadata": {
    "ExecuteTime": {
     "end_time": "2019-10-18T11:25:41.449877Z",
     "start_time": "2019-10-18T11:25:41.438095Z"
    }
   },
   "outputs": [
    {
     "data": {
      "text/plain": [
       "0.0"
      ]
     },
     "execution_count": 43,
     "metadata": {},
     "output_type": "execute_result"
    }
   ],
   "source": [
    "#final residual\n",
    "1 - (theta.dot(u1))**2"
   ]
  },
  {
   "cell_type": "code",
   "execution_count": 44,
   "metadata": {
    "ExecuteTime": {
     "end_time": "2019-10-18T11:26:37.475080Z",
     "start_time": "2019-10-18T11:26:36.766625Z"
    }
   },
   "outputs": [
    {
     "data": {
      "image/png": "[encoded data removed]",
      "text/plain": [
       "<Figure size 432x288 with 1 Axes>"
      ]
     },
     "metadata": {},
     "output_type": "display_data"
    }
   ],
   "source": [
    "sns.set_style('darkgrid')\n",
    "plt.plot(list(range(1,max_iters)), res_adam, label=f'ADAM')\n",
    "plt.xlabel(f\"#Iterations({max_iters})\", fontsize = 'xx-large')\n",
    "plt.ylabel(r\"$1 - (\\theta_t^Tu_1)^2$\", fontsize = 'xx-large')\n",
    "plt.yscale('log')\n",
    "plt.legend(loc='upper right')\n",
    "plt.show()"
   ]
  },
  {
   "cell_type": "code",
   "execution_count": null,
   "metadata": {},
   "outputs": [],
   "source": []
  }
 ],
 "metadata": {
  "kernelspec": {
   "display_name": "Python 3",
   "language": "python",
   "name": "python3"
  },
  "language_info": {
   "codemirror_mode": {
    "name": "ipython",
    "version": 3
   },
   "file_extension": ".py",
   "mimetype": "text/x-python",
   "name": "python",
   "nbconvert_exporter": "python",
   "pygments_lexer": "ipython3",
   "version": "3.6.5"
  }
 },
 "nbformat": 4,
 "nbformat_minor": 2
}
